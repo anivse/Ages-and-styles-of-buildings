{
  "cells": [
    {
      "cell_type": "code",
      "execution_count": 1,
      "metadata": {
        "id": "dE7MephyEkPZ"
      },
      "outputs": [
        {
          "name": "stdout",
          "output_type": "stream",
          "text": [
            "WARNING:tensorflow:From c:\\Users\\Acer\\AppData\\Local\\Programs\\Python\\Python310\\lib\\site-packages\\keras\\src\\losses.py:2976: The name tf.losses.sparse_softmax_cross_entropy is deprecated. Please use tf.compat.v1.losses.sparse_softmax_cross_entropy instead.\n",
            "\n"
          ]
        }
      ],
      "source": [
        "import geopandas as gpd\n",
        "import pandas as pd\n",
        "import re\n",
        "import numpy as np\n",
        "from PIL import Image\n",
        "import requests\n",
        "import sys\n",
        "from tensorflow.keras.preprocessing.image import img_to_array\n",
        "from sklearn.model_selection import train_test_split\n",
        "from keras.utils import to_categorical\n",
        "from keras.models import Sequential, load_model\n",
        "from keras.layers import Conv2D, MaxPool2D, Dense, Flatten, Dropout\n",
        "from tensorflow.keras import backend as K\n",
        "import matplotlib.pyplot as plt\n",
        "from tensorflow.keras.applications.resnet import ResNet50\n",
        "from sklearn.metrics import accuracy_score"
      ]
    },
    {
      "cell_type": "markdown",
      "metadata": {},
      "source": [
        "# Получение наборов данных"
      ]
    },
    {
      "cell_type": "markdown",
      "metadata": {},
      "source": [
        "## Чтение файла типа gpkg"
      ]
    },
    {
      "cell_type": "code",
      "execution_count": 2,
      "metadata": {},
      "outputs": [],
      "source": [
        "input_file = \"Vozrast_domov_SanktPeterburga.gpkg\"\n",
        "input_data = gpd.read_file(input_file)"
      ]
    },
    {
      "cell_type": "code",
      "execution_count": 6,
      "metadata": {},
      "outputs": [
        {
          "name": "stdout",
          "output_type": "stream",
          "text": [
            "<class 'geopandas.geodataframe.GeoDataFrame'>\n",
            "RangeIndex: 142325 entries, 0 to 142324\n",
            "Data columns (total 13 columns):\n",
            " #   Column           Non-Null Count   Dtype   \n",
            "---  ------           --------------   -----   \n",
            " 0   r_adress         142010 non-null  object  \n",
            " 1   r_years_string   80247 non-null   object  \n",
            " 2   r_architect      10856 non-null   object  \n",
            " 3   r_style          15725 non-null   object  \n",
            " 4   r_name           126939 non-null  object  \n",
            " 5   r_photo_url      38607 non-null   object  \n",
            " 6   r_cw_url         22009 non-null   object  \n",
            " 7   r_layer          142300 non-null  object  \n",
            " 8   r_year_int       79602 non-null   float64 \n",
            " 9   r_url            32 non-null      object  \n",
            " 10  r_copyrights     142319 non-null  object  \n",
            " 11  r_wikipedia_url  13 non-null      object  \n",
            " 12  geometry         142325 non-null  geometry\n",
            "dtypes: float64(1), geometry(1), object(11)\n",
            "memory usage: 14.1+ MB\n",
            "None\n"
          ]
        }
      ],
      "source": [
        "print(input_data.info())"
      ]
    },
    {
      "cell_type": "markdown",
      "metadata": {},
      "source": [
        "## Выберем нужные столбцы"
      ]
    },
    {
      "cell_type": "code",
      "execution_count": 6,
      "metadata": {},
      "outputs": [
        {
          "name": "stdout",
          "output_type": "stream",
          "text": [
            "<class 'pandas.core.frame.DataFrame'>\n",
            "Int64Index: 15053 entries, 68 to 142296\n",
            "Data columns (total 3 columns):\n",
            " #   Column       Non-Null Count  Dtype  \n",
            "---  ------       --------------  -----  \n",
            " 0   r_photo_url  15053 non-null  object \n",
            " 1   r_style      15053 non-null  object \n",
            " 2   r_year_int   15053 non-null  float64\n",
            "dtypes: float64(1), object(2)\n",
            "memory usage: 470.4+ KB\n",
            "None\n"
          ]
        }
      ],
      "source": [
        "df = input_data.loc[((input_data['r_photo_url'].notna()) & (input_data['r_style'].notna()) &(input_data['r_year_int'].notna()) & (input_data['r_style'] != \"\") & (input_data['r_style'] != \" \"))]\n",
        "df = df[['r_photo_url','r_style', 'r_year_int']]\n",
        "print(df.info())"
      ]
    },
    {
      "cell_type": "code",
      "execution_count": 7,
      "metadata": {},
      "outputs": [
        {
          "name": "stdout",
          "output_type": "stream",
          "text": [
            "<class 'pandas.core.frame.DataFrame'>\n",
            "Int64Index: 15053 entries, 68 to 142296\n",
            "Data columns (total 3 columns):\n",
            " #   Column       Non-Null Count  Dtype  \n",
            "---  ------       --------------  -----  \n",
            " 0   r_photo_url  15053 non-null  object \n",
            " 1   r_style      15053 non-null  object \n",
            " 2   r_year_int   15053 non-null  float64\n",
            "dtypes: float64(1), object(2)\n",
            "memory usage: 470.4+ KB\n",
            "None\n"
          ]
        }
      ],
      "source": [
        "print(df.info())"
      ]
    },
    {
      "cell_type": "code",
      "execution_count": 8,
      "metadata": {},
      "outputs": [],
      "source": [
        "df.to_csv('data_frame.csv', index = False, encoding = \"utf-16\")"
      ]
    },
    {
      "cell_type": "markdown",
      "metadata": {},
      "source": [
        "Загрузим данные из csv"
      ]
    },
    {
      "cell_type": "code",
      "execution_count": 23,
      "metadata": {},
      "outputs": [],
      "source": [
        "df = pd.read_csv('data_frame.csv', encoding = 'utf-16')\n",
        "df = df.loc[(input_data['r_year_int'].notna())]\n",
        "df = df[['r_photo_url','r_style', 'r_year_int']]"
      ]
    },
    {
      "cell_type": "code",
      "execution_count": 24,
      "metadata": {},
      "outputs": [
        {
          "name": "stdout",
          "output_type": "stream",
          "text": [
            "<class 'pandas.core.frame.DataFrame'>\n",
            "Int64Index: 6581 entries, 5 to 13018\n",
            "Data columns (total 3 columns):\n",
            " #   Column       Non-Null Count  Dtype  \n",
            "---  ------       --------------  -----  \n",
            " 0   r_photo_url  6581 non-null   object \n",
            " 1   r_style      6579 non-null   object \n",
            " 2   r_year_int   6579 non-null   float64\n",
            "dtypes: float64(1), object(2)\n",
            "memory usage: 205.7+ KB\n",
            "None\n"
          ]
        }
      ],
      "source": [
        "print(df.info())"
      ]
    },
    {
      "cell_type": "markdown",
      "metadata": {},
      "source": [
        "Удалим строки с неработающими ссылками"
      ]
    },
    {
      "cell_type": "code",
      "execution_count": 5,
      "metadata": {},
      "outputs": [
        {
          "name": "stdout",
          "output_type": "stream",
          "text": [
            "298\n",
            "686\n",
            "1961\n",
            "7662\n",
            "8196\n",
            "11407\n"
          ]
        }
      ],
      "source": [
        "for row_index, row in df.iterrows():\n",
        "    try: \n",
        "        image = requests.get(df['r_photo_url'][row_index])\n",
        "    except:\n",
        "        print(row_index)\n",
        "        df.drop(labels = [row_index], axis = 0)"
      ]
    },
    {
      "cell_type": "code",
      "execution_count": 8,
      "metadata": {},
      "outputs": [
        {
          "data": {
            "text/html": [
              "<div>\n",
              "<style scoped>\n",
              "    .dataframe tbody tr th:only-of-type {\n",
              "        vertical-align: middle;\n",
              "    }\n",
              "\n",
              "    .dataframe tbody tr th {\n",
              "        vertical-align: top;\n",
              "    }\n",
              "\n",
              "    .dataframe thead th {\n",
              "        text-align: right;\n",
              "    }\n",
              "</style>\n",
              "<table border=\"1\" class=\"dataframe\">\n",
              "  <thead>\n",
              "    <tr style=\"text-align: right;\">\n",
              "      <th></th>\n",
              "      <th>r_photo_url</th>\n",
              "      <th>r_style</th>\n",
              "      <th>r_year_int</th>\n",
              "    </tr>\n",
              "  </thead>\n",
              "  <tbody>\n",
              "    <tr>\n",
              "      <th>0</th>\n",
              "      <td>https://p1.citywalls.ru/photo_225-230545.jpg</td>\n",
              "      <td>Современный</td>\n",
              "      <td>2015.0</td>\n",
              "    </tr>\n",
              "    <tr>\n",
              "      <th>1</th>\n",
              "      <td>https://p2.citywalls.ru/photo_226-232202.jpg</td>\n",
              "      <td>Сталинский неоклассицизм</td>\n",
              "      <td>1953.0</td>\n",
              "    </tr>\n",
              "    <tr>\n",
              "      <th>2</th>\n",
              "      <td>https://p3.citywalls.ru/photo_302-309819.jpg</td>\n",
              "      <td>Рядовая застройка</td>\n",
              "      <td>1959.0</td>\n",
              "    </tr>\n",
              "    <tr>\n",
              "      <th>3</th>\n",
              "      <td>https://p1.citywalls.ru/photo_136-140041.jpg</td>\n",
              "      <td>Сталинский неоклассицизм</td>\n",
              "      <td>1952.0</td>\n",
              "    </tr>\n",
              "    <tr>\n",
              "      <th>4</th>\n",
              "      <td>https://p3.citywalls.ru/photo_181-186047.jpg</td>\n",
              "      <td>Современный</td>\n",
              "      <td>1959.0</td>\n",
              "    </tr>\n",
              "    <tr>\n",
              "      <th>...</th>\n",
              "      <td>...</td>\n",
              "      <td>...</td>\n",
              "      <td>...</td>\n",
              "    </tr>\n",
              "    <tr>\n",
              "      <th>13014</th>\n",
              "      <td>https://p2.citywalls.ru/photo_149-153082.jpg</td>\n",
              "      <td>Современный</td>\n",
              "      <td>1964.0</td>\n",
              "    </tr>\n",
              "    <tr>\n",
              "      <th>13015</th>\n",
              "      <td>https://p1.citywalls.ru/photo_192-197193.jpg</td>\n",
              "      <td>Современный</td>\n",
              "      <td>1972.0</td>\n",
              "    </tr>\n",
              "    <tr>\n",
              "      <th>13016</th>\n",
              "      <td>https://p0.citywalls.ru/photo_270-277128.jpg</td>\n",
              "      <td>Рядовая застройка</td>\n",
              "      <td>1918.0</td>\n",
              "    </tr>\n",
              "    <tr>\n",
              "      <th>13017</th>\n",
              "      <td>https://p3.citywalls.ru/photo_13-14207.jpg</td>\n",
              "      <td>Эклектика</td>\n",
              "      <td>1840.0</td>\n",
              "    </tr>\n",
              "    <tr>\n",
              "      <th>13018</th>\n",
              "      <td>https://p2.citywalls.ru/photo_368-376862.jpg</td>\n",
              "      <td>Ретроспективизм</td>\n",
              "      <td>1903.0</td>\n",
              "    </tr>\n",
              "  </tbody>\n",
              "</table>\n",
              "<p>13013 rows × 3 columns</p>\n",
              "</div>"
            ],
            "text/plain": [
              "                                        r_photo_url                   r_style  \\\n",
              "0      https://p1.citywalls.ru/photo_225-230545.jpg               Современный   \n",
              "1      https://p2.citywalls.ru/photo_226-232202.jpg  Сталинский неоклассицизм   \n",
              "2      https://p3.citywalls.ru/photo_302-309819.jpg         Рядовая застройка   \n",
              "3      https://p1.citywalls.ru/photo_136-140041.jpg  Сталинский неоклассицизм   \n",
              "4      https://p3.citywalls.ru/photo_181-186047.jpg               Современный   \n",
              "...                                             ...                       ...   \n",
              "13014  https://p2.citywalls.ru/photo_149-153082.jpg               Современный   \n",
              "13015  https://p1.citywalls.ru/photo_192-197193.jpg               Современный   \n",
              "13016  https://p0.citywalls.ru/photo_270-277128.jpg         Рядовая застройка   \n",
              "13017    https://p3.citywalls.ru/photo_13-14207.jpg                 Эклектика   \n",
              "13018  https://p2.citywalls.ru/photo_368-376862.jpg           Ретроспективизм   \n",
              "\n",
              "       r_year_int  \n",
              "0          2015.0  \n",
              "1          1953.0  \n",
              "2          1959.0  \n",
              "3          1952.0  \n",
              "4          1959.0  \n",
              "...           ...  \n",
              "13014      1964.0  \n",
              "13015      1972.0  \n",
              "13016      1918.0  \n",
              "13017      1840.0  \n",
              "13018      1903.0  \n",
              "\n",
              "[13013 rows x 3 columns]"
            ]
          },
          "execution_count": 8,
          "metadata": {},
          "output_type": "execute_result"
        }
      ],
      "source": [
        "df.drop(labels = [298, 686, 1961, 7662, 8196, 11407], axis = 0)"
      ]
    },
    {
      "cell_type": "code",
      "execution_count": 10,
      "metadata": {},
      "outputs": [],
      "source": [
        "df.to_csv(\"data_frame.csv\", encoding = 'utf-16', index = False)"
      ]
    },
    {
      "cell_type": "code",
      "execution_count": 58,
      "metadata": {},
      "outputs": [],
      "source": [
        "df = pd.read_excel(\"data_frame_1.xlsx\")\n"
      ]
    },
    {
      "cell_type": "code",
      "execution_count": 59,
      "metadata": {},
      "outputs": [
        {
          "name": "stdout",
          "output_type": "stream",
          "text": [
            "<class 'pandas.core.frame.DataFrame'>\n",
            "RangeIndex: 13013 entries, 0 to 13012\n",
            "Data columns (total 3 columns):\n",
            " #   Column       Non-Null Count  Dtype  \n",
            "---  ------       --------------  -----  \n",
            " 0   r_photo_url  13013 non-null  object \n",
            " 1   r_style      13013 non-null  object \n",
            " 2   r_year_int   13013 non-null  float64\n",
            "dtypes: float64(1), object(2)\n",
            "memory usage: 305.1+ KB\n",
            "None\n"
          ]
        }
      ],
      "source": [
        "print(df.info())"
      ]
    },
    {
      "cell_type": "markdown",
      "metadata": {},
      "source": [
        "Выделим список уникальных названий значений классов"
      ]
    },
    {
      "cell_type": "code",
      "execution_count": 60,
      "metadata": {},
      "outputs": [
        {
          "name": "stdout",
          "output_type": "stream",
          "text": [
            "['Современный' 'Сталинский неоклассицизм' 'Рядовая застройка'\n",
            " 'Конструктивизм' 'Эклектика' 'Классицизм' 'Модерн' 'Неорусский'\n",
            " 'Неоклассицизм' 'Кирпичный' 'Необарокко' 'Псевдоготика' 'Неоренессанс'\n",
            " 'Барокко' 'Ретроспективизм' 'модерн' 'Модернизм' 'Византийский'\n",
            " ' Современный' ' Сталинский неоклассицизм' ' Cовременный' 'модернизм'\n",
            " ' Конструктивизм' 'функционализм' 'конструктивизм' 'Неоклассицизм '\n",
            " ' Эклектика' ' Неорусский' 'эклектика' 'неоклассицизм' 'Псевдорусский '\n",
            " ' Модерн' 'Хрущевка' 'Северный модерн' ' Неоклассицизм'\n",
            " ' Петровское барокко' 'Петровское барокко' 'Сталинский неоклассицизм.']\n"
          ]
        }
      ],
      "source": [
        "print(df['r_style'].unique())"
      ]
    },
    {
      "cell_type": "markdown",
      "metadata": {},
      "source": [
        "## Глядя на названия классов, подправим датасет"
      ]
    },
    {
      "cell_type": "code",
      "execution_count": 61,
      "metadata": {},
      "outputs": [
        {
          "name": "stderr",
          "output_type": "stream",
          "text": [
            "C:\\Users\\Acer\\AppData\\Local\\Temp\\ipykernel_9572\\441623882.py:2: SettingWithCopyWarning: \n",
            "A value is trying to be set on a copy of a slice from a DataFrame\n",
            "\n",
            "See the caveats in the documentation: https://pandas.pydata.org/pandas-docs/stable/user_guide/indexing.html#returning-a-view-versus-a-copy\n",
            "  df['r_style'][row_index] = re.sub(u'ё', u'e', df['r_style'][row_index]) #меняем буквы ё на е\n",
            "C:\\Users\\Acer\\AppData\\Local\\Temp\\ipykernel_9572\\441623882.py:3: SettingWithCopyWarning: \n",
            "A value is trying to be set on a copy of a slice from a DataFrame\n",
            "\n",
            "See the caveats in the documentation: https://pandas.pydata.org/pandas-docs/stable/user_guide/indexing.html#returning-a-view-versus-a-copy\n",
            "  df['r_style'][row_index] = df['r_style'][row_index].strip() #убираем пробелы в начале и конце строк\n",
            "C:\\Users\\Acer\\AppData\\Local\\Temp\\ipykernel_9572\\441623882.py:4: SettingWithCopyWarning: \n",
            "A value is trying to be set on a copy of a slice from a DataFrame\n",
            "\n",
            "See the caveats in the documentation: https://pandas.pydata.org/pandas-docs/stable/user_guide/indexing.html#returning-a-view-versus-a-copy\n",
            "  df['r_style'][row_index] = df['r_style'][row_index].title() #делаем все буквы слов заглавными\n",
            "C:\\Users\\Acer\\AppData\\Local\\Temp\\ipykernel_9572\\441623882.py:5: SettingWithCopyWarning: \n",
            "A value is trying to be set on a copy of a slice from a DataFrame\n",
            "\n",
            "See the caveats in the documentation: https://pandas.pydata.org/pandas-docs/stable/user_guide/indexing.html#returning-a-view-versus-a-copy\n",
            "  df['r_style'][row_index] = df['r_style'][row_index].replace(\".\",\"\") #убираем точки из строк\n",
            "C:\\Users\\Acer\\AppData\\Local\\Temp\\ipykernel_9572\\441623882.py:6: SettingWithCopyWarning: \n",
            "A value is trying to be set on a copy of a slice from a DataFrame\n",
            "\n",
            "See the caveats in the documentation: https://pandas.pydata.org/pandas-docs/stable/user_guide/indexing.html#returning-a-view-versus-a-copy\n",
            "  df['r_style'][row_index] = df['r_style'][row_index].replace('Современный', 'Рядовая Застройка') #меняем \"современный\" на \"рядовая застройка\" (де-факто это одно и то же)\n"
          ]
        }
      ],
      "source": [
        "for row_index, row in df.iterrows():\n",
        "   df['r_style'][row_index] = re.sub(u'ё', u'e', df['r_style'][row_index]) #меняем буквы ё на е\n",
        "   df['r_style'][row_index] = df['r_style'][row_index].strip() #убираем пробелы в начале и конце строк\n",
        "   df['r_style'][row_index] = df['r_style'][row_index].title() #делаем все буквы слов заглавными\n",
        "   df['r_style'][row_index] = df['r_style'][row_index].replace(\".\",\"\") #убираем точки из строк\n",
        "   df['r_style'][row_index] = df['r_style'][row_index].replace('Современный', 'Рядовая Застройка') #меняем \"современный\" на \"рядовая застройка\" (де-факто это одно и то же)\n",
        "   # print(row_index, row)"
      ]
    },
    {
      "cell_type": "markdown",
      "metadata": {},
      "source": [
        "## Получим названия классов"
      ]
    },
    {
      "cell_type": "code",
      "execution_count": 62,
      "metadata": {},
      "outputs": [
        {
          "name": "stdout",
          "output_type": "stream",
          "text": [
            "['Рядовая Застройка' 'Сталинский Неоклассицизм' 'Конструктивизм'\n",
            " 'Эклектика' 'Классицизм' 'Модерн' 'Неорусский' 'Неоклассицизм'\n",
            " 'Кирпичный' 'Необарокко' 'Псевдоготика' 'Неоренессанс' 'Барокко'\n",
            " 'Ретроспективизм' 'Модернизм' 'Византийский' 'Cовременный'\n",
            " 'Функционализм' 'Псевдорусский' 'Хрущевка' 'Северный Модерн'\n",
            " 'Петровское Барокко']\n"
          ]
        }
      ],
      "source": [
        "classes = df['r_style'].unique()\n",
        "print(classes)"
      ]
    },
    {
      "cell_type": "code",
      "execution_count": 63,
      "metadata": {},
      "outputs": [
        {
          "data": {
            "text/plain": [
              "0        1\n",
              "1       42\n",
              "2       11\n",
              "3      584\n",
              "4      669\n",
              "5      407\n",
              "6     1088\n",
              "7        5\n",
              "8       71\n",
              "9      405\n",
              "10      83\n",
              "11     123\n",
              "12       2\n",
              "13      50\n",
              "14       1\n",
              "15     207\n",
              "16    5622\n",
              "17       1\n",
              "18    2025\n",
              "19       1\n",
              "20       1\n",
              "21    1614\n",
              "Name: r_photo_url, dtype: int64"
            ]
          },
          "execution_count": 63,
          "metadata": {},
          "output_type": "execute_result"
        }
      ],
      "source": [
        "df_classes = df.groupby(['r_style']).count().reset_index()\n",
        "df_classes['r_photo_url']"
      ]
    },
    {
      "cell_type": "code",
      "execution_count": 64,
      "metadata": {},
      "outputs": [],
      "source": [
        "df_classes = df_classes.loc[(df_classes['r_photo_url'] >= 400)]"
      ]
    },
    {
      "cell_type": "code",
      "execution_count": 65,
      "metadata": {},
      "outputs": [],
      "source": [
        "classes = df_classes['r_style']\n",
        "df = df.loc[(df['r_style'].isin(classes))]"
      ]
    },
    {
      "cell_type": "markdown",
      "metadata": {},
      "source": [
        "Прочитаем фото по ссылкам "
      ]
    },
    {
      "cell_type": "code",
      "execution_count": 42,
      "metadata": {},
      "outputs": [
        {
          "name": "stdout",
          "output_type": "stream",
          "text": [
            "-\n",
            "-\n",
            "-\n",
            "-\n"
          ]
        }
      ],
      "source": [
        "for row_index, row in df.iterrows():\n",
        "      try:\n",
        "            p = requests.get(df['r_photo_url'][row_index])\n",
        "            out = open(f\"G:\\photos_buildings\\\\image_{row_index}.jpg\", \"wb\")\n",
        "            out.write(p.content)\n",
        "            out.close()\n",
        "      except:\n",
        "            print('-')"
      ]
    },
    {
      "cell_type": "markdown",
      "metadata": {},
      "source": [
        "## Прочитаем фотографии из папки "
      ]
    },
    {
      "cell_type": "code",
      "execution_count": 67,
      "metadata": {},
      "outputs": [],
      "source": [
        "data = []\n",
        "error_index = []\n",
        "\n",
        "flag = 0 #флаг проверяет наличие некорректных данных изображения\n",
        "for row_index, row in df.iterrows():\n",
        "      try:\n",
        "            image = Image.open(f'G:\\photos_buildings\\\\image_{row_index}.jpg')\n",
        "            image = image.resize((150,150))\n",
        "            image = img_to_array(image)\n",
        "            for i in range (0, len(image)):\n",
        "                  for j in range (0, len(image[i])):\n",
        "                        if len(image[i][j]) != 3:\n",
        "                              error_index.append(row_index)\n",
        "                              flag = 1\n",
        "                              break\n",
        "                        else:\n",
        "                              flag = 0\n",
        "            if flag == 0: \n",
        "                  data.append(image)\n",
        "      except:\n",
        "            error_index.append(row_index)"
      ]
    },
    {
      "cell_type": "code",
      "execution_count": 68,
      "metadata": {},
      "outputs": [
        {
          "data": {
            "text/plain": [
              "85176"
            ]
          },
          "execution_count": 68,
          "metadata": {},
          "output_type": "execute_result"
        }
      ],
      "source": [
        "sys.getsizeof(data)"
      ]
    },
    {
      "cell_type": "code",
      "execution_count": 69,
      "metadata": {},
      "outputs": [],
      "source": [
        "df = df.drop(labels = error_index, axis = 0)"
      ]
    },
    {
      "cell_type": "markdown",
      "metadata": {},
      "source": [
        "Определяем метки для архитектурного стиля"
      ]
    },
    {
      "cell_type": "code",
      "execution_count": 70,
      "metadata": {},
      "outputs": [],
      "source": [
        "labels = []\n",
        "for row_index, row in df.iterrows():\n",
        "    labels.append(np.where(classes==df['r_style'][row_index])[0][0])\n",
        "\n",
        "labels = np.array(labels)"
      ]
    },
    {
      "cell_type": "markdown",
      "metadata": {},
      "source": [
        "Определяем возраст зданий"
      ]
    },
    {
      "cell_type": "code",
      "execution_count": 72,
      "metadata": {},
      "outputs": [],
      "source": [
        "ages = 2024.0 - df['r_year_int']\n",
        "ages = np.array(ages)"
      ]
    },
    {
      "cell_type": "code",
      "execution_count": 73,
      "metadata": {},
      "outputs": [],
      "source": [
        "photos = np.array(data)\n",
        "photos /= 255.0"
      ]
    },
    {
      "cell_type": "markdown",
      "metadata": {},
      "source": [
        "Смотрим количество изображений в каждом классе"
      ]
    },
    {
      "cell_type": "code",
      "execution_count": 76,
      "metadata": {},
      "outputs": [
        {
          "data": {
            "text/plain": [
              "(array([0, 1, 2, 3, 4, 5, 6, 7], dtype=int64),\n",
              " array([ 531,  554,  379,  770,  292, 5169, 1869, 1053], dtype=int64))"
            ]
          },
          "execution_count": 76,
          "metadata": {},
          "output_type": "execute_result"
        }
      ],
      "source": [
        "np.unique(labels, return_counts = True)"
      ]
    },
    {
      "cell_type": "markdown",
      "metadata": {},
      "source": [
        "Получем список классов"
      ]
    },
    {
      "cell_type": "code",
      "execution_count": 77,
      "metadata": {},
      "outputs": [],
      "source": [
        "classes = df_classes['r_style']\n",
        "classes.reset_index(drop= True , inplace= True)"
      ]
    },
    {
      "cell_type": "markdown",
      "metadata": {},
      "source": [
        "Строим гистаграммы распределений показателей"
      ]
    },
    {
      "cell_type": "code",
      "execution_count": null,
      "metadata": {},
      "outputs": [],
      "source": [
        "plt.hist(labels,  color = 'blue', edgecolor = 'black')\n",
        "plt.title('Распределение классов стилей зданий')"
      ]
    },
    {
      "cell_type": "code",
      "execution_count": null,
      "metadata": {},
      "outputs": [],
      "source": [
        "plt.hist(ages,  color = 'teal', edgecolor = 'black' )\n",
        "plt.title('Распределение зданий по возрастам')"
      ]
    },
    {
      "cell_type": "markdown",
      "metadata": {},
      "source": [
        "# Создаем и обучаем модель"
      ]
    },
    {
      "cell_type": "code",
      "execution_count": 79,
      "metadata": {},
      "outputs": [
        {
          "name": "stdout",
          "output_type": "stream",
          "text": [
            "(8493, 150, 150, 3) (2124, 150, 150, 3) (8493,) (2124,) (8493,) (2124,)\n"
          ]
        }
      ],
      "source": [
        "X_train, X_test, y_train, y_test, z_train, z_test = train_test_split(photos, labels, ages, test_size=0.2, random_state=42)\n",
        "print(X_train.shape, X_test.shape, y_train.shape, y_test.shape, z_train.shape, z_test.shape)"
      ]
    },
    {
      "cell_type": "markdown",
      "metadata": {},
      "source": [
        "## Архитектурный стиль"
      ]
    },
    {
      "cell_type": "markdown",
      "metadata": {},
      "source": [
        "Строим модель"
      ]
    },
    {
      "cell_type": "code",
      "execution_count": 80,
      "metadata": {},
      "outputs": [],
      "source": [
        "class NetStyle:\n",
        "  @staticmethod\n",
        "  def build(width, height, depth, classes):\n",
        "    model_style = Sequential()\n",
        "    inputShape = (height, width, depth)\n",
        "    if K.image_data_format() == 'channels_first':\n",
        "      inputShape = (depth, height, width)\n",
        "    model_style = Sequential()\n",
        "\n",
        "    model_style.add(Conv2D(filters=32, kernel_size=(3,3), activation='relu', input_shape=inputShape))\n",
        "    model_style.add(MaxPool2D(pool_size=(2, 2)))\n",
        "    model_style.add(Dropout(rate=0.5))\n",
        "\n",
        "    model_style.add(Conv2D(filters=64, kernel_size=(3, 3), activation='relu'))\n",
        "    model_style.add(MaxPool2D(pool_size=(2, 2)))\n",
        "    model_style.add(Dropout(rate=0.5))\n",
        "\n",
        "    model_style.add(Conv2D(filters=128, kernel_size=(3, 3), activation='relu'))\n",
        "    model_style.add(MaxPool2D(pool_size=(2, 2)))\n",
        "    model_style.add(Dropout(rate=0.5))\n",
        "\n",
        "    model_style.add(Flatten())\n",
        "    model_style.add(Dense(1000, activation='relu'))\n",
        "    model_style.add(Dropout(rate=0.35))\n",
        "    model_style.add(Dense(classes, activation='softmax'))\n",
        "    return model_style"
      ]
    },
    {
      "cell_type": "markdown",
      "metadata": {},
      "source": [
        "Обучаем модель"
      ]
    },
    {
      "cell_type": "code",
      "execution_count": 81,
      "metadata": {},
      "outputs": [
        {
          "name": "stdout",
          "output_type": "stream",
          "text": [
            "Epoch 1/35\n",
            "133/133 [==============================] - 427s 3s/step - loss: 2.2765 - accuracy: 0.4687 - val_loss: 1.7623 - val_accuracy: 0.4911\n",
            "Epoch 2/35\n",
            "133/133 [==============================] - 388s 3s/step - loss: 1.5553 - accuracy: 0.4869 - val_loss: 1.5548 - val_accuracy: 0.5009\n",
            "Epoch 3/35\n",
            "133/133 [==============================] - 381s 3s/step - loss: 1.4949 - accuracy: 0.4963 - val_loss: 1.4831 - val_accuracy: 0.5264\n",
            "Epoch 4/35\n",
            "133/133 [==============================] - 373s 3s/step - loss: 1.4445 - accuracy: 0.5142 - val_loss: 1.4561 - val_accuracy: 0.5193\n",
            "Epoch 5/35\n",
            "133/133 [==============================] - 374s 3s/step - loss: 1.4142 - accuracy: 0.5251 - val_loss: 1.4536 - val_accuracy: 0.5311\n",
            "Epoch 6/35\n",
            "133/133 [==============================] - 379s 3s/step - loss: 1.3760 - accuracy: 0.5362 - val_loss: 1.3998 - val_accuracy: 0.5235\n",
            "Epoch 7/35\n",
            "133/133 [==============================] - 382s 3s/step - loss: 1.3443 - accuracy: 0.5424 - val_loss: 1.3674 - val_accuracy: 0.5372\n",
            "Epoch 8/35\n",
            "133/133 [==============================] - 375s 3s/step - loss: 1.3250 - accuracy: 0.5532 - val_loss: 1.3524 - val_accuracy: 0.5504\n",
            "Epoch 9/35\n",
            "133/133 [==============================] - 372s 3s/step - loss: 1.2865 - accuracy: 0.5653 - val_loss: 1.2947 - val_accuracy: 0.5687\n",
            "Epoch 10/35\n",
            "133/133 [==============================] - 371s 3s/step - loss: 1.2570 - accuracy: 0.5705 - val_loss: 1.3082 - val_accuracy: 0.5833\n",
            "Epoch 11/35\n",
            "133/133 [==============================] - 371s 3s/step - loss: 1.2055 - accuracy: 0.5894 - val_loss: 1.2979 - val_accuracy: 0.5800\n",
            "Epoch 12/35\n",
            "133/133 [==============================] - 371s 3s/step - loss: 1.1593 - accuracy: 0.6019 - val_loss: 1.3230 - val_accuracy: 0.5824\n",
            "Epoch 13/35\n",
            "133/133 [==============================] - 371s 3s/step - loss: 1.0972 - accuracy: 0.6219 - val_loss: 1.2532 - val_accuracy: 0.5899\n",
            "Epoch 14/35\n",
            "133/133 [==============================] - 370s 3s/step - loss: 1.0325 - accuracy: 0.6474 - val_loss: 1.2460 - val_accuracy: 0.6036\n",
            "Epoch 15/35\n",
            "133/133 [==============================] - 371s 3s/step - loss: 0.9681 - accuracy: 0.6654 - val_loss: 1.2362 - val_accuracy: 0.6083\n",
            "Epoch 16/35\n",
            "133/133 [==============================] - 372s 3s/step - loss: 0.8972 - accuracy: 0.6853 - val_loss: 1.2800 - val_accuracy: 0.6069\n",
            "Epoch 17/35\n",
            "133/133 [==============================] - 370s 3s/step - loss: 0.7926 - accuracy: 0.7268 - val_loss: 1.2453 - val_accuracy: 0.6125\n",
            "Epoch 18/35\n",
            "133/133 [==============================] - 370s 3s/step - loss: 0.7270 - accuracy: 0.7401 - val_loss: 1.2844 - val_accuracy: 0.6121\n",
            "Epoch 19/35\n",
            "133/133 [==============================] - 373s 3s/step - loss: 0.6351 - accuracy: 0.7712 - val_loss: 1.3945 - val_accuracy: 0.6116\n",
            "Epoch 20/35\n",
            "133/133 [==============================] - 380s 3s/step - loss: 0.5875 - accuracy: 0.7952 - val_loss: 1.3387 - val_accuracy: 0.6003\n",
            "Epoch 21/35\n",
            "133/133 [==============================] - 379s 3s/step - loss: 0.4963 - accuracy: 0.8236 - val_loss: 1.4954 - val_accuracy: 0.6116\n",
            "Epoch 22/35\n",
            "133/133 [==============================] - 377s 3s/step - loss: 0.4544 - accuracy: 0.8340 - val_loss: 1.4720 - val_accuracy: 0.5989\n",
            "Epoch 23/35\n",
            "133/133 [==============================] - 372s 3s/step - loss: 0.4147 - accuracy: 0.8567 - val_loss: 1.5612 - val_accuracy: 0.5970\n",
            "Epoch 24/35\n",
            "133/133 [==============================] - 370s 3s/step - loss: 0.3336 - accuracy: 0.8819 - val_loss: 1.5889 - val_accuracy: 0.6055\n",
            "Epoch 25/35\n",
            "133/133 [==============================] - 369s 3s/step - loss: 0.3575 - accuracy: 0.8765 - val_loss: 1.5769 - val_accuracy: 0.6008\n",
            "Epoch 26/35\n",
            "133/133 [==============================] - 372s 3s/step - loss: 0.2956 - accuracy: 0.8967 - val_loss: 1.7553 - val_accuracy: 0.6106\n",
            "Epoch 27/35\n",
            "133/133 [==============================] - 377s 3s/step - loss: 0.2785 - accuracy: 0.9055 - val_loss: 1.7900 - val_accuracy: 0.6168\n",
            "Epoch 28/35\n",
            "133/133 [==============================] - 377s 3s/step - loss: 0.2472 - accuracy: 0.9112 - val_loss: 1.8047 - val_accuracy: 0.6040\n",
            "Epoch 29/35\n",
            "133/133 [==============================] - 376s 3s/step - loss: 0.2273 - accuracy: 0.9232 - val_loss: 1.7689 - val_accuracy: 0.6088\n",
            "Epoch 30/35\n",
            "133/133 [==============================] - 371s 3s/step - loss: 0.2134 - accuracy: 0.9249 - val_loss: 1.8311 - val_accuracy: 0.6036\n",
            "Epoch 31/35\n",
            "133/133 [==============================] - 369s 3s/step - loss: 0.1936 - accuracy: 0.9363 - val_loss: 1.9777 - val_accuracy: 0.6163\n",
            "Epoch 32/35\n",
            "133/133 [==============================] - 370s 3s/step - loss: 0.1886 - accuracy: 0.9356 - val_loss: 1.9179 - val_accuracy: 0.6083\n",
            "Epoch 33/35\n",
            "133/133 [==============================] - 369s 3s/step - loss: 0.1787 - accuracy: 0.9411 - val_loss: 1.9212 - val_accuracy: 0.6125\n",
            "Epoch 34/35\n",
            "133/133 [==============================] - 370s 3s/step - loss: 0.1687 - accuracy: 0.9441 - val_loss: 2.0403 - val_accuracy: 0.6069\n",
            "Epoch 35/35\n",
            "133/133 [==============================] - 371s 3s/step - loss: 0.1599 - accuracy: 0.9457 - val_loss: 2.0923 - val_accuracy: 0.6205\n"
          ]
        }
      ],
      "source": [
        "epochs = 35\n",
        "model_style = NetStyle.build(width=150, height=150, depth=3, classes=8)\n",
        "model_style.compile(loss='sparse_categorical_crossentropy', optimizer='adam', metrics=['accuracy'])\n",
        "history = model_style.fit(X_train, y_train, batch_size=64, validation_data=(X_test, y_test), epochs=epochs)"
      ]
    },
    {
      "cell_type": "code",
      "execution_count": null,
      "metadata": {},
      "outputs": [],
      "source": [
        "model_style.save('model_style.keras')"
      ]
    },
    {
      "cell_type": "markdown",
      "metadata": {},
      "source": [
        "## Возраст здания по фото"
      ]
    },
    {
      "cell_type": "markdown",
      "metadata": {},
      "source": [
        "Строим модель"
      ]
    },
    {
      "cell_type": "code",
      "execution_count": 98,
      "metadata": {},
      "outputs": [],
      "source": [
        "class Net_Ages:\n",
        "  @staticmethod\n",
        "  def build(width, height, depth):\n",
        "    model_ages = Sequential()\n",
        "    inputShape = (height, width, depth)\n",
        "    if K.image_data_format() == 'channels_first':\n",
        "      inputShape = (depth, height, width)\n",
        "    model_ages = Sequential()\n",
        "    \n",
        "    model_ages.add(Conv2D(filters=32, kernel_size=(3,3), activation='relu', input_shape=inputShape))\n",
        "    model_ages.add(Conv2D(filters=32, kernel_size=(3,3), activation='relu', input_shape=inputShape))\n",
        "    model_ages.add(MaxPool2D(pool_size=(2, 2)))\n",
        "    model_ages.add(Dropout(rate=0.5))\n",
        "\n",
        "    model_ages.add(Conv2D(filters=64, kernel_size=(3, 3), activation='relu'))\n",
        "    model_ages.add(MaxPool2D(pool_size=(2, 2)))\n",
        "    model_ages.add(Dropout(rate=0.5))\n",
        "\n",
        "    model_ages.add(Conv2D(filters=128, kernel_size=(3, 3), activation='relu'))\n",
        "    model_ages.add(MaxPool2D(pool_size=(2, 2)))\n",
        "    model_ages.add(Dropout(rate=0.5))\n",
        "\n",
        "    model_ages.add(Flatten())\n",
        "    model_ages.add(Dense(64, activation='relu'))\n",
        "    model_ages.add(Dense(1, activation='relu')) \n",
        "    return model_ages"
      ]
    },
    {
      "cell_type": "markdown",
      "metadata": {},
      "source": [
        "Обучаем модель"
      ]
    },
    {
      "cell_type": "code",
      "execution_count": 101,
      "metadata": {},
      "outputs": [
        {
          "name": "stdout",
          "output_type": "stream",
          "text": [
            "Epoch 1/35\n",
            "133/133 [==============================] - 547s 4s/step - loss: 2880.5242 - mae: 41.7086 - val_loss: 4426.6064 - val_mae: 52.5945\n",
            "Epoch 2/35\n",
            "133/133 [==============================] - 553s 4s/step - loss: 2550.7305 - mae: 38.8315 - val_loss: 3288.1558 - val_mae: 44.2121\n",
            "Epoch 3/35\n",
            "133/133 [==============================] - 545s 4s/step - loss: 2338.3391 - mae: 36.9941 - val_loss: 4091.3979 - val_mae: 50.1537\n",
            "Epoch 4/35\n",
            "133/133 [==============================] - 546s 4s/step - loss: 2270.0786 - mae: 36.2966 - val_loss: 3648.9922 - val_mae: 46.5734\n",
            "Epoch 5/35\n",
            "133/133 [==============================] - 547s 4s/step - loss: 2222.9175 - mae: 35.7188 - val_loss: 3672.1970 - val_mae: 46.7382\n",
            "Epoch 6/35\n",
            "133/133 [==============================] - 548s 4s/step - loss: 2210.0847 - mae: 35.6498 - val_loss: 2938.7458 - val_mae: 41.1512\n",
            "Epoch 7/35\n",
            "133/133 [==============================] - 553s 4s/step - loss: 2089.9663 - mae: 34.5923 - val_loss: 3192.6743 - val_mae: 43.1286\n",
            "Epoch 8/35\n",
            "133/133 [==============================] - 554s 4s/step - loss: 2009.9113 - mae: 33.7586 - val_loss: 2509.9521 - val_mae: 36.8180\n",
            "Epoch 9/35\n",
            "133/133 [==============================] - 554s 4s/step - loss: 1960.7208 - mae: 33.4961 - val_loss: 2598.2026 - val_mae: 37.8967\n",
            "Epoch 10/35\n",
            "133/133 [==============================] - 547s 4s/step - loss: 1985.7949 - mae: 33.6783 - val_loss: 2610.9243 - val_mae: 37.7988\n",
            "Epoch 11/35\n",
            "133/133 [==============================] - 552s 4s/step - loss: 1837.7217 - mae: 32.4274 - val_loss: 2631.7427 - val_mae: 37.9603\n",
            "Epoch 12/35\n",
            "133/133 [==============================] - 552s 4s/step - loss: 1765.2836 - mae: 31.7076 - val_loss: 1944.7361 - val_mae: 32.1197\n",
            "Epoch 13/35\n",
            "133/133 [==============================] - 562s 4s/step - loss: 1695.8584 - mae: 30.9309 - val_loss: 2276.2654 - val_mae: 35.0771\n",
            "Epoch 14/35\n",
            "133/133 [==============================] - 559s 4s/step - loss: 1676.0311 - mae: 30.8760 - val_loss: 2367.0854 - val_mae: 36.0087\n",
            "Epoch 15/35\n",
            "133/133 [==============================] - 589s 4s/step - loss: 1592.0590 - mae: 29.9985 - val_loss: 1915.2645 - val_mae: 31.8806\n",
            "Epoch 16/35\n",
            "133/133 [==============================] - 673s 5s/step - loss: 1582.4374 - mae: 29.8901 - val_loss: 2072.9121 - val_mae: 33.2844\n",
            "Epoch 17/35\n",
            "133/133 [==============================] - 690s 5s/step - loss: 1524.7152 - mae: 29.3225 - val_loss: 1841.4244 - val_mae: 31.2182\n",
            "Epoch 18/35\n",
            "133/133 [==============================] - 663s 5s/step - loss: 1495.4564 - mae: 29.1000 - val_loss: 2061.1611 - val_mae: 33.2949\n",
            "Epoch 19/35\n",
            "133/133 [==============================] - 585s 4s/step - loss: 1476.8002 - mae: 28.7941 - val_loss: 2154.5840 - val_mae: 34.2457\n",
            "Epoch 20/35\n",
            "133/133 [==============================] - 578s 4s/step - loss: 1464.9121 - mae: 28.8386 - val_loss: 2222.8835 - val_mae: 34.6967\n",
            "Epoch 21/35\n",
            "133/133 [==============================] - 537s 4s/step - loss: 1409.8645 - mae: 28.1150 - val_loss: 2121.5452 - val_mae: 33.9648\n",
            "Epoch 22/35\n",
            "133/133 [==============================] - 482s 4s/step - loss: 1355.7211 - mae: 27.7106 - val_loss: 1838.1263 - val_mae: 31.2713\n",
            "Epoch 23/35\n",
            "133/133 [==============================] - 478s 4s/step - loss: 1312.7184 - mae: 27.3933 - val_loss: 1629.2120 - val_mae: 29.4271\n",
            "Epoch 24/35\n",
            "133/133 [==============================] - 478s 4s/step - loss: 1276.7363 - mae: 27.1111 - val_loss: 1718.0581 - val_mae: 30.1051\n",
            "Epoch 25/35\n",
            "133/133 [==============================] - 478s 4s/step - loss: 1270.3513 - mae: 27.0357 - val_loss: 1906.9229 - val_mae: 32.0350\n",
            "Epoch 26/35\n",
            "133/133 [==============================] - 479s 4s/step - loss: 1203.0310 - mae: 26.2319 - val_loss: 1872.0846 - val_mae: 31.5647\n",
            "Epoch 27/35\n",
            "133/133 [==============================] - 474s 4s/step - loss: 1180.8005 - mae: 26.0881 - val_loss: 1987.6163 - val_mae: 32.5989\n",
            "Epoch 28/35\n",
            "133/133 [==============================] - 477s 4s/step - loss: 1148.4609 - mae: 25.8086 - val_loss: 2020.1683 - val_mae: 33.0589\n",
            "Epoch 29/35\n",
            "133/133 [==============================] - 476s 4s/step - loss: 1163.1586 - mae: 25.8872 - val_loss: 2075.5708 - val_mae: 33.5613\n",
            "Epoch 30/35\n",
            "133/133 [==============================] - 474s 4s/step - loss: 1073.6798 - mae: 25.0217 - val_loss: 1883.4563 - val_mae: 31.7149\n",
            "Epoch 31/35\n",
            "133/133 [==============================] - 542s 4s/step - loss: 1041.2101 - mae: 24.7199 - val_loss: 1953.5444 - val_mae: 32.4415\n",
            "Epoch 32/35\n",
            "133/133 [==============================] - 555s 4s/step - loss: 1007.3926 - mae: 24.2474 - val_loss: 1932.3033 - val_mae: 32.1354\n",
            "Epoch 33/35\n",
            "133/133 [==============================] - 523s 4s/step - loss: 955.2704 - mae: 23.6190 - val_loss: 1717.5334 - val_mae: 30.4566\n",
            "Epoch 34/35\n",
            "133/133 [==============================] - 517s 4s/step - loss: 949.1284 - mae: 23.6294 - val_loss: 2059.8174 - val_mae: 33.6049\n",
            "Epoch 35/35\n",
            "133/133 [==============================] - 516s 4s/step - loss: 909.2623 - mae: 23.1326 - val_loss: 1771.3998 - val_mae: 30.8568\n"
          ]
        }
      ],
      "source": [
        "epochs = 35\n",
        "model_ages = Net_Ages.build(width=150, height=150, depth=3)\n",
        "model_ages.compile(loss='mean_squared_error', optimizer='adam',\n",
        "               metrics=['mae'])\n",
        "history_ages = model_ages.fit(X_train, z_train, batch_size=64, validation_data=(X_test, z_test), epochs=epochs)\n"
      ]
    },
    {
      "cell_type": "code",
      "execution_count": 130,
      "metadata": {},
      "outputs": [],
      "source": [
        "model_ages.save('model_ages.keras')"
      ]
    },
    {
      "cell_type": "markdown",
      "metadata": {},
      "source": [
        "# Смотрим результаты"
      ]
    },
    {
      "cell_type": "code",
      "execution_count": null,
      "metadata": {},
      "outputs": [],
      "source": [
        "model_style = load_model('model_style.keras')\n",
        "model_ages = load_model('model_ages.keras')"
      ]
    },
    {
      "cell_type": "code",
      "execution_count": null,
      "metadata": {},
      "outputs": [],
      "source": [
        "predicted_style = model_style.predict(X_test)\n",
        "predicted_age = model_ages.predict(X_test)"
      ]
    },
    {
      "cell_type": "code",
      "execution_count": null,
      "metadata": {},
      "outputs": [],
      "source": [
        "index = 1028\n",
        "plt.imshow(X_test[index])\n",
        "plt.title(f'Точно: {int(z_test[index])}, {classes[y_test[index]]}, Предсказано: {int(predicted_age[index])}, {classes[np.argmax(predicted_style[index])]}')"
      ]
    },
    {
      "cell_type": "markdown",
      "metadata": {},
      "source": [
        "# Определение наличия у здания архитектурной ценности"
      ]
    },
    {
      "cell_type": "code",
      "execution_count": null,
      "metadata": {},
      "outputs": [],
      "source": [
        "# Функция, определеяющая \"ценность здания\"\n",
        "# Минимальное количество баллов - 0, максимальное 100\n",
        "def Significance(age, num_class):\n",
        "    result = 0\n",
        "\n",
        "    #На основе датировки\n",
        "    #Архитектура 1950-1970гг\n",
        "    if(age > 50 and age < 70):\n",
        "        result += 10\n",
        "    #Сталинская архитектура и довоенная архитектура\n",
        "    elif(age >= 70 and age < 107):\n",
        "        result += 25\n",
        "    #Дореволюционная архитектура с 1870-х годов\n",
        "    elif(age >= 95 and age < 154):\n",
        "        result += 40\n",
        "    #Более ранняя архитектура\n",
        "    elif(age >= 154):\n",
        "        result+= 50\n",
        "    else:\n",
        "        result+= 0\n",
        "\n",
        "    #На основе культурного стиля \n",
        "    #За рядовую застройку баллов не добавляется\n",
        "    if(num_class == 5):\n",
        "        result+= 0 \n",
        "    #За кирпичный стиль\n",
        "    elif(num_class == 0):\n",
        "        result+= 10\n",
        "    #Сталинский неоклассицизм\n",
        "    elif(num_class == 6):\n",
        "        result+= 30\n",
        "    #Остальные архитектурные стили (представлены в основном в дореволюционную эпоху)\n",
        "    else:\n",
        "        result+= 50\n",
        "\n",
        "    return result\n"
      ]
    },
    {
      "cell_type": "code",
      "execution_count": null,
      "metadata": {},
      "outputs": [],
      "source": [
        "exact_significance = []\n",
        "predicted_significance = []\n",
        "for index in range(0, len(y_test)):\n",
        "    exact_significance.append(Significance(z_test[index], y_test[index]))\n",
        "    predicted_significance.append(Significance(predicted_age[index], np.argmax(predicted_style[index])))"
      ]
    },
    {
      "cell_type": "code",
      "execution_count": null,
      "metadata": {},
      "outputs": [],
      "source": [
        "index = 1444\n",
        "plt.imshow(X_test[index])\n",
        "plt.title(f'Точно: {exact_significance[index]}, Предсказано: {predicted_significance[index]}')"
      ]
    }
  ],
  "metadata": {
    "colab": {
      "provenance": []
    },
    "kernelspec": {
      "display_name": "Python 3",
      "name": "python3"
    },
    "language_info": {
      "codemirror_mode": {
        "name": "ipython",
        "version": 3
      },
      "file_extension": ".py",
      "mimetype": "text/x-python",
      "name": "python",
      "nbconvert_exporter": "python",
      "pygments_lexer": "ipython3",
      "version": "3.10.2"
    }
  },
  "nbformat": 4,
  "nbformat_minor": 0
}
